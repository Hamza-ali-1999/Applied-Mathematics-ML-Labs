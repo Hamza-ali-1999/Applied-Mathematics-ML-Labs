{
 "cells": [
  {
   "cell_type": "code",
   "execution_count": 1,
   "metadata": {},
   "outputs": [
    {
     "name": "stdout",
     "output_type": "stream",
     "text": [
      "1. Polar Form: 5.385 * (cos(0.381) + j * sin(0.381)), Exponential Form: 5.000+2.000j * e^(0.381j)\n",
      "2. Polar Form: 5.385 * (cos(-0.381) + j * sin(-0.381)), Exponential Form: 5.000-2.000j * e^(-0.381j)\n",
      "3. Polar Form: 7.211 * (cos(0.588) + j * sin(0.588)), Exponential Form: 6.000+4.000j * e^(0.588j)\n",
      "4. Polar Form: 7.071 * (cos(-0.785) + j * sin(-0.785)), Exponential Form: 5.000-5.000j * e^(-0.785j)\n",
      "5. Polar Form: 3.606 * (cos(0.983) + j * sin(0.983)), Exponential Form: 2.000+3.000j * e^(0.983j)\n"
     ]
    }
   ],
   "source": [
    "import cmath\n",
    "\n",
    "# Given complex numbers\n",
    "z1 = 5 + 2j\n",
    "z2 = 5 - 2j\n",
    "z3 = 6 + 4j\n",
    "z4 = 5 - 5j\n",
    "z5 = 2 + 3j\n",
    "\n",
    "# Calculate polar and exponential forms\n",
    "r1, theta1 = abs(z1), cmath.phase(z1)\n",
    "r2, theta2 = abs(z2), cmath.phase(z2)\n",
    "r3, theta3 = abs(z3), cmath.phase(z3)\n",
    "r4, theta4 = abs(z4), cmath.phase(z4)\n",
    "r5, theta5 = abs(z5), cmath.phase(z5)\n",
    "\n",
    "#results\n",
    "print(f\"1. Polar Form: {r1:.3f} * (cos({theta1:.3f}) + j * sin({theta1:.3f})), Exponential Form: {cmath.rect(r1, theta1):.3f} * e^({theta1:.3f}j)\")\n",
    "print(f\"2. Polar Form: {r2:.3f} * (cos({theta2:.3f}) + j * sin({theta2:.3f})), Exponential Form: {cmath.rect(r2, theta2):.3f} * e^({theta2:.3f}j)\")\n",
    "print(f\"3. Polar Form: {r3:.3f} * (cos({theta3:.3f}) + j * sin({theta3:.3f})), Exponential Form: {cmath.rect(r3, theta3):.3f} * e^({theta3:.3f}j)\")\n",
    "print(f\"4. Polar Form: {r4:.3f} * (cos({theta4:.3f}) + j * sin({theta4:.3f})), Exponential Form: {cmath.rect(r4, theta4):.3f} * e^({theta4:.3f}j)\")\n",
    "print(f\"5. Polar Form: {r5:.3f} * (cos({theta5:.3f}) + j * sin({theta5:.3f})), Exponential Form: {cmath.rect(r5, theta5):.3f} * e^({theta5:.3f}j)\")"
   ]
  },
  {
   "cell_type": "code",
   "execution_count": 2,
   "metadata": {},
   "outputs": [
    {
     "name": "stdout",
     "output_type": "stream",
     "text": [
      "1. Rectangular Form: (1.0000000000000002+1.7320508075688772j)\n",
      "2. Rectangular Form: (-3.464101615137755-1.9999999999999998j)\n",
      "3. Rectangular Form: (2.5000000000000004+4.330127018922193j)\n",
      "4. Rectangular Form: (1.4142135623730951+1.4142135623730951j)\n"
     ]
    }
   ],
   "source": [
    "import cmath\n",
    "\n",
    "# Given complex numbers in polar/exponential form\n",
    "z1 = 2 * cmath.exp(1j * cmath.pi / 3)\n",
    "z2 = -4 * cmath.exp(1j * cmath.pi / 6)\n",
    "z3 = 5 * cmath.exp(1j * cmath.pi / 3)\n",
    "z4 = 2 * cmath.exp(1j * cmath.pi / 4)\n",
    "\n",
    "# Convert to rectangular form\n",
    "rectangular_z1 = z1.real + z1.imag * 1j\n",
    "rectangular_z2 = z2.real + z2.imag * 1j\n",
    "rectangular_z3 = z3.real + z3.imag * 1j\n",
    "rectangular_z4 = z4.real + z4.imag * 1j\n",
    "\n",
    "# Display results\n",
    "print(\"1. Rectangular Form:\", rectangular_z1)\n",
    "print(\"2. Rectangular Form:\", rectangular_z2)\n",
    "print(\"3. Rectangular Form:\", rectangular_z3)\n",
    "print(\"4. Rectangular Form:\", rectangular_z4)"
   ]
  },
  {
   "cell_type": "code",
   "execution_count": 3,
   "metadata": {},
   "outputs": [
    {
     "name": "stdout",
     "output_type": "stream",
     "text": [
      "For z1 = 2 + 3j:\n",
      "  Polar Form: 3.606 * (cos(0.983) + j * sin(0.983))\n",
      "  Exponential Form: 2.000+3.000j * e^(0.983j)\n",
      "\n",
      "For z2 = -1 + 4j:\n",
      "  Polar Form: 4.123 * (cos(1.816) + j * sin(1.816))\n",
      "  Exponential Form: -1.000+4.000j * e^(1.816j)\n",
      "\n",
      "For the product z1 * z2:\n",
      "  Rectangular Form: (-14+5j)\n",
      "  Polar Form: 14.866 * (cos(2.799) + j * sin(2.799))\n",
      "  Exponential Form: -14.000+5.000j * e^(2.799j)\n"
     ]
    }
   ],
   "source": [
    "z1 = 2 + 3j\n",
    "z2 = -1 + 4j\n",
    "\n",
    "# Calculate polar and exponential forms for z1\n",
    "r1, theta1 = abs(z1), cmath.phase(z1)\n",
    "exp_form1 = cmath.rect(r1, theta1)\n",
    "\n",
    "# Calculate polar and exponential forms for z2\n",
    "r2, theta2 = abs(z2), cmath.phase(z2)\n",
    "exp_form2 = cmath.rect(r2, theta2)\n",
    "\n",
    "# Calculate z1 * z2 in rectangular, polar, and exponential forms\n",
    "rectangular_product = z1 * z2\n",
    "polar_product = r1 * r2 * (cmath.cos(theta1 + theta2) + 1j * cmath.sin(theta1 + theta2))\n",
    "exp_product = exp_form1 * exp_form2\n",
    "\n",
    "# Display results\n",
    "print(\"For z1 = 2 + 3j:\")\n",
    "print(\"  Polar Form:\", f\"{r1:.3f} * (cos({theta1:.3f}) + j * sin({theta1:.3f}))\")\n",
    "print(\"  Exponential Form:\", f\"{exp_form1:.3f} * e^({theta1:.3f}j)\")\n",
    "\n",
    "print(\"\\nFor z2 = -1 + 4j:\")\n",
    "print(\"  Polar Form:\", f\"{r2:.3f} * (cos({theta2:.3f}) + j * sin({theta2:.3f}))\")\n",
    "print(\"  Exponential Form:\", f\"{exp_form2:.3f} * e^({theta2:.3f}j)\")\n",
    "\n",
    "print(\"\\nFor the product z1 * z2:\")\n",
    "print(\"  Rectangular Form:\", rectangular_product)\n",
    "print(\"  Polar Form:\", f\"{abs(polar_product):.3f} * (cos({cmath.phase(polar_product):.3f}) + j * sin({cmath.phase(polar_product):.3f}))\")\n",
    "print(\"  Exponential Form:\", f\"{polar_product:.3f} * e^({cmath.phase(polar_product):.3f}j)\")"
   ]
  }
 ],
 "metadata": {
  "kernelspec": {
   "display_name": "Python 3",
   "language": "python",
   "name": "python3"
  },
  "language_info": {
   "codemirror_mode": {
    "name": "ipython",
    "version": 3
   },
   "file_extension": ".py",
   "mimetype": "text/x-python",
   "name": "python",
   "nbconvert_exporter": "python",
   "pygments_lexer": "ipython3",
   "version": "3.11.5"
  }
 },
 "nbformat": 4,
 "nbformat_minor": 2
}
