{
 "cells": [
  {
   "cell_type": "markdown",
   "metadata": {},
   "source": [
    "<p style=\"font-family: Arial; font-size:3em;color:black;\"> Session 5 - Lab Exercise 9</p>"
   ]
  },
  {
   "cell_type": "code",
   "execution_count": 97,
   "metadata": {},
   "outputs": [],
   "source": [
    "# For this example, we will use K-Means Clustering Project database from Kaggle (https://www.kaggle.com/faressayah/k-means-clustering-private-vs-public-universities)\n",
    "# We actually have the labels for this data set, but we will NOT use them for the KMeans clustering algorithm, since that is an unsupervised learning algorithm.\n",
    "# As we will shortly see, we have a data frame with 777 observations on 18 variables.\n",
    "\n",
    "import pandas as pd\n",
    "import numpy as np\n",
    "import matplotlib.pyplot as plt\n",
    "from sklearn.cluster import KMeans\n",
    "from sklearn.metrics import confusion_matrix\n",
    "\n",
    "%matplotlib inline"
   ]
  },
  {
   "cell_type": "code",
   "execution_count": 98,
   "metadata": {},
   "outputs": [
    {
     "data": {
      "text/plain": [
       "Index(['Private', 'Apps', 'Accept', 'Enroll', 'Top10perc', 'Top25perc',\n",
       "       'F.Undergrad', 'P.Undergrad', 'Outstate', 'Room.Board', 'Books',\n",
       "       'Personal', 'PhD', 'Terminal', 'S.F.Ratio', 'perc.alumni', 'Expend',\n",
       "       'Grad.Rate'],\n",
       "      dtype='object')"
      ]
     },
     "execution_count": 98,
     "metadata": {},
     "output_type": "execute_result"
    }
   ],
   "source": [
    "df = pd.read_csv('College_Data',index_col=0)\n",
    "df.columns"
   ]
  },
  {
   "cell_type": "code",
   "execution_count": 99,
   "metadata": {},
   "outputs": [
    {
     "name": "stderr",
     "output_type": "stream",
     "text": [
      "C:\\Users\\Syed\\AppData\\Local\\Temp\\ipykernel_14684\\3450590736.py:1: SettingWithCopyWarning: \n",
      "A value is trying to be set on a copy of a slice from a DataFrame\n",
      "\n",
      "See the caveats in the documentation: https://pandas.pydata.org/pandas-docs/stable/user_guide/indexing.html#returning-a-view-versus-a-copy\n",
      "  df['Grad.Rate']['Cazenovia College'] = 100\n"
     ]
    }
   ],
   "source": [
    "df['Grad.Rate']['Cazenovia College'] = 100\n",
    "\n",
    "# Try removing various columns (features) from the dataset and examin if it improves/degrades your K-Means model performance, or it may have little impact.\n",
    "# Report 10 cases where you removed one or more features and indicate how it impacted the model performance."
   ]
  },
  {
   "cell_type": "code",
   "execution_count": 130,
   "metadata": {},
   "outputs": [],
   "source": [
    "def Kmeans_performance(dataset):\n",
    "\n",
    "    kmeans = KMeans(n_clusters=2, n_init=10)\n",
    "    kmeans.fit(dataset.drop('Private',axis=1))   \n",
    "\n",
    "    Cluster_predict=kmeans.predict(dataset.drop('Private',axis=1))\n",
    "    dataset['Cluster_predict'] = Cluster_predict\n",
    "\n",
    "    def convert_to_binary(cluster):  # converts labels for Private into binary values of 0 and 1\n",
    "        if cluster=='Yes':\n",
    "            return 1\n",
    "        else:\n",
    "            return 0\n",
    "\n",
    "    dataset['Cluster_actual'] = dataset['Private'].apply(convert_to_binary)\n",
    "    print(confusion_matrix(dataset['Cluster_actual'],kmeans.labels_))\n"
   ]
  },
  {
   "cell_type": "code",
   "execution_count": 138,
   "metadata": {},
   "outputs": [
    {
     "name": "stdout",
     "output_type": "stream",
     "text": [
      "Original Confusion Matrix:\n",
      "\n",
      "[[138  74]\n",
      " [531  34]]\n"
     ]
    }
   ],
   "source": [
    "print('Original Confusion Matrix:\\n')\n",
    "Kmeans_performance(df)"
   ]
  },
  {
   "cell_type": "code",
   "execution_count": 102,
   "metadata": {},
   "outputs": [
    {
     "name": "stdout",
     "output_type": "stream",
     "text": [
      "[[121  91]\n",
      " [553  12]]\n"
     ]
    }
   ],
   "source": [
    "cols_to_remove = ['Expend']\n",
    "df_remove_cols = df.drop(columns=cols_to_remove)\n",
    "Kmeans_performance(df_remove_cols)"
   ]
  },
  {
   "cell_type": "markdown",
   "metadata": {},
   "source": [
    "### Increase In False intances while True instances decreased"
   ]
  },
  {
   "cell_type": "code",
   "execution_count": 104,
   "metadata": {},
   "outputs": [
    {
     "name": "stdout",
     "output_type": "stream",
     "text": [
      "[[138  74]\n",
      " [531  34]]\n"
     ]
    }
   ],
   "source": [
    "cols_to_remove = ['Outstate']\n",
    "df_remove_cols = df.drop(columns=cols_to_remove)\n",
    "Kmeans_performance(df_remove_cols)"
   ]
  },
  {
   "cell_type": "markdown",
   "metadata": {},
   "source": [
    "### No change"
   ]
  },
  {
   "cell_type": "code",
   "execution_count": 110,
   "metadata": {},
   "outputs": [
    {
     "name": "stdout",
     "output_type": "stream",
     "text": [
      "[[123  89]\n",
      " [553  12]]\n"
     ]
    }
   ],
   "source": [
    "cols_to_remove = ['Enroll']\n",
    "df_remove_cols = df.drop(columns=cols_to_remove)\n",
    "Kmeans_performance(df_remove_cols)"
   ]
  },
  {
   "cell_type": "markdown",
   "metadata": {},
   "source": [
    "### Increase In False intances while True instances decreased"
   ]
  },
  {
   "cell_type": "code",
   "execution_count": 111,
   "metadata": {},
   "outputs": [
    {
     "name": "stdout",
     "output_type": "stream",
     "text": [
      "[[140  72]\n",
      " [534  31]]\n"
     ]
    }
   ],
   "source": [
    "cols_to_remove = ['Accept']\n",
    "df_remove_cols = df.drop(columns=cols_to_remove)\n",
    "Kmeans_performance(df_remove_cols)"
   ]
  },
  {
   "cell_type": "markdown",
   "metadata": {},
   "source": [
    "### Increase In True intances while False instances decreased"
   ]
  },
  {
   "cell_type": "code",
   "execution_count": 140,
   "metadata": {},
   "outputs": [
    {
     "name": "stdout",
     "output_type": "stream",
     "text": [
      "[[138  74]\n",
      " [531  34]]\n"
     ]
    }
   ],
   "source": [
    "cols_to_remove = ['Top10perc']\n",
    "df_remove_cols = df.drop(columns=cols_to_remove)\n",
    "Kmeans_performance(df_remove_cols)"
   ]
  },
  {
   "cell_type": "markdown",
   "metadata": {},
   "source": [
    "### No change"
   ]
  },
  {
   "cell_type": "code",
   "execution_count": 116,
   "metadata": {},
   "outputs": [
    {
     "name": "stdout",
     "output_type": "stream",
     "text": [
      "[[138  74]\n",
      " [531  34]]\n"
     ]
    }
   ],
   "source": [
    "cols_to_remove = ['S.F.Ratio']\n",
    "df_remove_cols = df.drop(columns=cols_to_remove)\n",
    "Kmeans_performance(df_remove_cols)"
   ]
  },
  {
   "cell_type": "markdown",
   "metadata": {},
   "source": [
    "### No change\n"
   ]
  },
  {
   "cell_type": "code",
   "execution_count": 119,
   "metadata": {},
   "outputs": [
    {
     "name": "stdout",
     "output_type": "stream",
     "text": [
      "[[138  74]\n",
      " [531  34]]\n"
     ]
    }
   ],
   "source": [
    "cols_to_remove = ['Room.Board']\n",
    "df_remove_cols = df.drop(columns=cols_to_remove)\n",
    "Kmeans_performance(df_remove_cols)"
   ]
  },
  {
   "cell_type": "markdown",
   "metadata": {},
   "source": [
    "### No change"
   ]
  },
  {
   "cell_type": "code",
   "execution_count": 120,
   "metadata": {},
   "outputs": [
    {
     "name": "stdout",
     "output_type": "stream",
     "text": [
      "[[189  23]\n",
      " [426 139]]\n"
     ]
    }
   ],
   "source": [
    "cols_to_remove = ['Top10perc', 'Top25perc','F.Undergrad', 'P.Undergrad']\n",
    "df_remove_multi_cols = df.drop(columns=cols_to_remove)\n",
    "Kmeans_performance(df_remove_multi_cols)"
   ]
  },
  {
   "cell_type": "markdown",
   "metadata": {},
   "source": [
    "### Removing 4 cols ('Top10perc', 'Top25perc', 'F.Undergrad', 'P.Undergrad') from original df, increases the # of True instances and reduces some False instances"
   ]
  },
  {
   "cell_type": "code",
   "execution_count": 122,
   "metadata": {},
   "outputs": [
    {
     "name": "stdout",
     "output_type": "stream",
     "text": [
      "[[131  81]\n",
      " [553  12]]\n"
     ]
    }
   ],
   "source": [
    "cols_to_remove = ['perc.alumni', 'Grad.Rate', 'PhD']\n",
    "df_remove_multi_cols2 = df.drop(columns=cols_to_remove)\n",
    "Kmeans_performance(df_remove_multi_cols2)"
   ]
  },
  {
   "cell_type": "markdown",
   "metadata": {},
   "source": [
    "### No change"
   ]
  },
  {
   "cell_type": "code",
   "execution_count": 141,
   "metadata": {},
   "outputs": [
    {
     "name": "stdout",
     "output_type": "stream",
     "text": [
      "[[ 23 189]\n",
      " [138 427]]\n"
     ]
    }
   ],
   "source": [
    "cols_to_remove = ['PhD','Room.Board', 'Books','F.Undergrad']\n",
    "df_remove_multi_cols3 = df.drop(columns=cols_to_remove)\n",
    "Kmeans_performance(df_remove_multi_cols3)"
   ]
  },
  {
   "cell_type": "markdown",
   "metadata": {},
   "source": [
    "# TP/FP decreases drastically, meanwhile FP/FN increase substantially"
   ]
  },
  {
   "cell_type": "markdown",
   "metadata": {},
   "source": [
    "'Private', 'Apps', 'Accept', 'Enroll', 'Top10perc', 'Top25perc',\n",
    "       'F.Undergrad', 'P.Undergrad', 'Outstate', 'Room.Board', 'Books',\n",
    "       'Personal', 'PhD', 'Terminal', 'S.F.Ratio', 'perc.alumni', 'Expend',\n",
    "       'Grad.Rate'"
   ]
  }
 ],
 "metadata": {
  "kernelspec": {
   "display_name": "Python 3 (ipykernel)",
   "language": "python",
   "name": "python3"
  },
  "language_info": {
   "codemirror_mode": {
    "name": "ipython",
    "version": 3
   },
   "file_extension": ".py",
   "mimetype": "text/x-python",
   "name": "python",
   "nbconvert_exporter": "python",
   "pygments_lexer": "ipython3",
   "version": "3.11.5"
  }
 },
 "nbformat": 4,
 "nbformat_minor": 1
}
