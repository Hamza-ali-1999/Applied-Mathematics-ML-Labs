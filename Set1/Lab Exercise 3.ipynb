{
 "cells": [
  {
   "cell_type": "markdown",
   "metadata": {},
   "source": [
    "<p style=\"font-family: Arial; font-size:3em;color:black;\"> Lab Exercise 3 </p>"
   ]
  },
  {
   "cell_type": "markdown",
   "metadata": {},
   "source": [
    "# 1"
   ]
  },
  {
   "cell_type": "code",
   "execution_count": 19,
   "metadata": {},
   "outputs": [
    {
     "name": "stdout",
     "output_type": "stream",
     "text": [
      "Matrix A is:\n",
      " [[5 2 3]\n",
      " [6 1 3]\n",
      " [2 4 1]]\n",
      "Matrix B is:\n",
      " [[5 2]\n",
      " [6 1]]\n",
      "Matrix C is:\n",
      " [[1 3]\n",
      " [4 1]]\n"
     ]
    }
   ],
   "source": [
    "import numpy as np\n",
    "from numpy.linalg import inv\n",
    "from numpy.linalg import det\n",
    "\n",
    "a_mat = np.array([[5,2,3],[6,1,3],[2,4,1]])\n",
    "b_mat = a_mat[:2, :2]\n",
    "c_mat = a_mat[1:, 1:]\n",
    "\n",
    "print(\"Matrix A is:\\n\",a_mat)\n",
    "print(\"Matrix B is:\\n\",b_mat)\n",
    "print(\"Matrix C is:\\n\",c_mat)"
   ]
  },
  {
   "cell_type": "markdown",
   "metadata": {},
   "source": [
    "# 2 and 3"
   ]
  },
  {
   "cell_type": "code",
   "execution_count": 25,
   "metadata": {},
   "outputs": [
    {
     "name": "stdout",
     "output_type": "stream",
     "text": [
      "Matrix D is:\n",
      " [[ 4 -7  4]\n",
      " [ 5  6 -1]\n",
      " [-4  2  5]]\n",
      "AD:\n",
      " [[ 18 -17  33]\n",
      " [ 17 -30  38]\n",
      " [ 24  12   9]]\n",
      "DA:\n",
      " [[-14  17  -5]\n",
      " [ 59  12  32]\n",
      " [  2  14  -1]]\n",
      "\n",
      "Therefore, the calculation for matrix AD and DA are not equal\n"
     ]
    }
   ],
   "source": [
    "d_mat = np.array([[4,-7,4],[5,6,-1],[-4,2,5]])\n",
    "print(\"Matrix D is:\\n\",d_mat)\n",
    "\n",
    "print(\"AD:\\n\", np.matmul(a_mat, d_mat))\n",
    "print(\"DA:\\n\", np.matmul(d_mat, a_mat))\n",
    "print(\"\\nTherefore, the calculation for matrix AD and DA are not equal\")"
   ]
  },
  {
   "cell_type": "markdown",
   "metadata": {},
   "source": [
    "# 4"
   ]
  },
  {
   "cell_type": "code",
   "execution_count": 47,
   "metadata": {},
   "outputs": [
    {
     "name": "stdout",
     "output_type": "stream",
     "text": [
      "The manually calculated determinant of matrix B yielded:  -7\n",
      "Numpy matrix B determinant:  -6.999999999999999\n",
      "\n",
      "The manually calculated inverse of matrix B:\n",
      " [[-0.14285714  0.28571429]\n",
      " [ 0.85714286 -0.71428571]]\n",
      "The Numpy inverse of Matrix B: \n",
      " [[-0.14285714  0.28571429]\n",
      " [ 0.85714286 -0.71428571]]\n",
      "\n",
      "From these results we can see that the manual calculations are identical and agree with the NumPy results\n"
     ]
    }
   ],
   "source": [
    "# Manual Calculations:\n",
    "a,b = b_mat[0,0], b_mat[0,1]\n",
    "c,d = b_mat[1,0], b_mat[1,1]\n",
    "\n",
    "inv_coeff = 1/(a*d -b*c)\n",
    "inv_mat = np.array([[d,-b],[-c, a]])\n",
    "\n",
    "manual_det_b = a*d - c*b \n",
    "manual_inv_b = inv_coeff*inv_mat\n",
    "\n",
    "\n",
    "\n",
    "\n",
    "print(\"The manually calculated determinant of matrix B yielded: \",manual_det_b)\n",
    "print(\"Numpy matrix B determinant: \", det(b_mat))\n",
    "\n",
    "print(\"\\nThe manually calculated inverse of matrix B:\\n\", manual_inv_b)\n",
    "print(\"The Numpy inverse of Matrix B: \\n\", inv(b_mat))\n",
    "\n",
    "print(\"\\nFrom these results we can see that the manual calculations are identical and agree with the NumPy results\")\n",
    "\n"
   ]
  },
  {
   "cell_type": "markdown",
   "metadata": {},
   "source": [
    "# 5"
   ]
  },
  {
   "cell_type": "code",
   "execution_count": 54,
   "metadata": {},
   "outputs": [
    {
     "name": "stdout",
     "output_type": "stream",
     "text": [
      "(D)(D^-1):\n",
      " [[ 1.  0.  0.]\n",
      " [ 0.  1. -0.]\n",
      " [-0. -0.  1.]]\n",
      "\n",
      "(D^-1)(D):\n",
      " [[ 1.  0.  0.]\n",
      " [ 0.  1. -0.]\n",
      " [ 0.  0.  1.]]\n",
      "\n",
      "Both Matrices are identity matrices which have a diagonal of 1 with the rest of the elements being 0.\n"
     ]
    }
   ],
   "source": [
    "inv_d_mat = inv(d_mat)\n",
    "\n",
    "print(\"(D)(D^-1):\\n\", np.round(np.matmul(d_mat, inv_d_mat)))\n",
    "\n",
    "print(\"\\n(D^-1)(D):\\n\", np.round(np.matmul(inv_d_mat, d_mat)))\n",
    "\n",
    "print(\"\\nBoth Matrices are identity matrices which have a diagonal of 1 with the rest of the elements being 0.\")"
   ]
  }
 ],
 "metadata": {
  "kernelspec": {
   "display_name": "Python 3 (ipykernel)",
   "language": "python",
   "name": "python3"
  },
  "language_info": {
   "codemirror_mode": {
    "name": "ipython",
    "version": 3
   },
   "file_extension": ".py",
   "mimetype": "text/x-python",
   "name": "python",
   "nbconvert_exporter": "python",
   "pygments_lexer": "ipython3",
   "version": "3.11.5"
  }
 },
 "nbformat": 4,
 "nbformat_minor": 1
}
