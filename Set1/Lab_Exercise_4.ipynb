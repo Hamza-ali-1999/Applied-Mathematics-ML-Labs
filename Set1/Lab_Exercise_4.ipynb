{
 "cells": [
  {
   "cell_type": "markdown",
   "id": "186188d6ffeac9f3",
   "metadata": {
    "collapsed": false
   },
   "source": [
    "## <p style=\"font-family: Arial; font-size:3em;color:black;\"> Lab Exercise 4 </p>"
   ]
  },
  {
   "cell_type": "markdown",
   "id": "2196bfc2d2b29e61",
   "metadata": {
    "collapsed": false
   },
   "source": [
    "# Group 10\n",
    "Team members:\n",
    "- Poleo Vargas, Ricardo\n",
    "- Naji, Mohamed Oussama\n",
    "- Ali, Syed Hamza\n",
    "- Jayswal, Ishabahen Dilipkumar\n",
    "- Karande, Pranali\n",
    "- Tran, Cong Le Anh Tu"
   ]
  },
  {
   "cell_type": "markdown",
   "id": "6d6bd93157b2519e",
   "metadata": {
    "collapsed": false
   },
   "source": [
    "# Installations and imports"
   ]
  },
  {
   "cell_type": "markdown",
   "id": "4cc9e444092d61c1",
   "metadata": {
    "collapsed": false
   },
   "source": [
    "## Installations"
   ]
  },
  {
   "cell_type": "markdown",
   "id": "f322feb9aba20133",
   "metadata": {
    "collapsed": false
   },
   "source": [
    "## Imports"
   ]
  },
  {
   "cell_type": "markdown",
   "id": "6f3456c4f0d60db2",
   "metadata": {
    "collapsed": false
   },
   "source": [
    "# Task 1: Calculate the bag of words (without TF-IDF, just word counts) matrix for the following 5 phrases.\n",
    "- college student\n",
    "- airport taxi driver\n",
    "- Toronto art museum\n",
    "- life art\n",
    "- machine learning student"
   ]
  },
  {
   "cell_type": "code",
   "execution_count": 1,
   "id": "initial_id",
   "metadata": {
    "ExecuteTime": {
     "end_time": "2024-01-11T22:57:39.220379800Z",
     "start_time": "2024-01-11T22:57:39.216053Z"
    },
    "collapsed": true
   },
   "outputs": [
    {
     "name": "stdout",
     "output_type": "stream",
     "text": [
      "phrases: ['college student', 'airport taxi driver', 'Toronto art museum', 'life art', 'machine learning student']\n",
      "words: [['college', 'student'], ['airport', 'taxi', 'driver'], ['Toronto', 'art', 'museum'], ['life', 'art'], ['machine', 'learning', 'student']]\n",
      "vocabulary: ['Toronto', 'airport', 'art', 'college', 'driver', 'learning', 'life', 'machine', 'museum', 'student', 'taxi']\n",
      "bag_of_words_matrix (init): \n",
      "[[0 0 0 0 0 0 0 0 0 0 0]\n",
      " [0 0 0 0 0 0 0 0 0 0 0]\n",
      " [0 0 0 0 0 0 0 0 0 0 0]\n",
      " [0 0 0 0 0 0 0 0 0 0 0]\n",
      " [0 0 0 0 0 0 0 0 0 0 0]]\n",
      "bag_of_words_matrix (final): \n",
      "[[0 0 0 1 0 0 0 0 0 1 0]\n",
      " [0 1 0 0 1 0 0 0 0 0 1]\n",
      " [1 0 1 0 0 0 0 0 1 0 0]\n",
      " [0 0 1 0 0 0 1 0 0 0 0]\n",
      " [0 0 0 0 0 1 0 1 0 1 0]]\n"
     ]
    }
   ],
   "source": [
    "import numpy as np\n",
    "\n",
    "# Define the list of phrases\n",
    "phrases = [\n",
    "    \"college student\",\n",
    "    \"airport taxi driver\",\n",
    "    \"Toronto art museum\",\n",
    "    \"life art\",\n",
    "    \"machine learning student\"\n",
    "]\n",
    "print(f'phrases: {phrases}')\n",
    "\n",
    "words = [phrase.split() for phrase in phrases]\n",
    "print(f'words: {words}')\n",
    "\n",
    "vocabulary = sorted(list(set([word for phrase in words for word in phrase])))\n",
    "print(f'vocabulary: {vocabulary}')\n",
    "\n",
    "bag_of_words_matrix = np.zeros((len(phrases), len(vocabulary)), dtype=int)\n",
    "print('bag_of_words_matrix (init): ')\n",
    "print(bag_of_words_matrix)\n",
    "\n",
    "# Count word occurrences and fill the matrix\n",
    "for i, phrase in enumerate(phrases):\n",
    "    for word in phrase.split():\n",
    "        word_index = vocabulary.index(word)\n",
    "        bag_of_words_matrix[i, word_index] += 1\n",
    "\n",
    "# Print the bag of words matrix\n",
    "print('bag_of_words_matrix (final): ')\n",
    "print(bag_of_words_matrix)\n"
   ]
  },
  {
   "cell_type": "markdown",
   "id": "c5683c1feb169cdb",
   "metadata": {
    "collapsed": false
   },
   "source": [
    "# Task 2: Calculate the IDF for the words “college” and “art”."
   ]
  },
  {
   "cell_type": "code",
   "execution_count": 2,
   "id": "5b8cfbc30a39dd0b",
   "metadata": {
    "ExecuteTime": {
     "end_time": "2024-01-11T22:59:00.682612600Z",
     "start_time": "2024-01-11T22:59:00.677776600Z"
    },
    "collapsed": false
   },
   "outputs": [
    {
     "name": "stdout",
     "output_type": "stream",
     "text": [
      "IDF for \"college\": 0.9162907318741551\n",
      "IDF for \"art\": 0.5108256237659907\n"
     ]
    }
   ],
   "source": [
    "# Total number of phrases\n",
    "total_phrases = len(phrases)\n",
    "\n",
    "# Count how many phrases contain the word \"college\" and \"art\"\n",
    "phrase_count_college = sum([\"college\" in phrase for phrase in phrases])\n",
    "phrase_count_art = sum([\"art\" in phrase for phrase in phrases])\n",
    "\n",
    "# Calculate IDF for \"college\" and \"art\"\n",
    "idf_college = np.log(total_phrases / (1 + phrase_count_college))\n",
    "idf_art = np.log(total_phrases / (1 + phrase_count_art))\n",
    "\n",
    "# Print the IDF values\n",
    "print(f'IDF for \"college\": {idf_college}')\n",
    "print(f'IDF for \"art\": {idf_art}')\n"
   ]
  }
 ],
 "metadata": {
  "kernelspec": {
   "display_name": "Python 3",
   "language": "python",
   "name": "python3"
  },
  "language_info": {
   "codemirror_mode": {
    "name": "ipython",
    "version": 3
   },
   "file_extension": ".py",
   "mimetype": "text/x-python",
   "name": "python",
   "nbconvert_exporter": "python",
   "pygments_lexer": "ipython3",
   "version": "3.11.5"
  }
 },
 "nbformat": 4,
 "nbformat_minor": 5
}
