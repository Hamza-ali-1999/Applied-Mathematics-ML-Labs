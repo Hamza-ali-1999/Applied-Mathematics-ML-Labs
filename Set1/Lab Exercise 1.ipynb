{
 "cells": [
  {
   "cell_type": "markdown",
   "metadata": {},
   "source": [
    "<p style=\"font-family: Arial; font-size:3em;color:black;\"> Lab 1 </p>"
   ]
  },
  {
   "cell_type": "markdown",
   "metadata": {},
   "source": [
    "Students name in this Group:  Syed Hamza Ali"
   ]
  },
  {
   "cell_type": "code",
   "execution_count": 2,
   "metadata": {},
   "outputs": [],
   "source": [
    "# importing numpy\n",
    "import numpy as np"
   ]
  },
  {
   "cell_type": "code",
   "execution_count": 3,
   "metadata": {},
   "outputs": [
    {
     "name": "stdout",
     "output_type": "stream",
     "text": [
      "The numpy array a is:  [1 2 3 5 0]\n",
      "The array has elements that are zero\n"
     ]
    }
   ],
   "source": [
    "# Create a numpy array with the elements \"1, 2, 3, 5, 0\", print the array and test if all of its elements are non-zero.\n",
    "a = np.array([1,2,3,5,0])\n",
    "print(\"The numpy array a is: \", a)\n",
    "\n",
    "# np.all checks if all elements in boolean array are true, therefore will return true if no non-zero elements exist\n",
    "# np.logical_not flips the bool value \n",
    "# (a == 0) if non zero exists will return false, otherwise true \n",
    "\n",
    "# creating a function to check for non zero elements to reduce redundancy\n",
    "def zero_check(input_array):\n",
    "\n",
    "    test = np.all(np.logical_not(input_array == 0))\n",
    "    \n",
    "    if test:\n",
    "        print('All elements in the array are non zero')\n",
    "    else:\n",
    "        print('The array has elements that are zero')\n",
    "\n",
    "zero_check(a)"
   ]
  },
  {
   "cell_type": "code",
   "execution_count": 4,
   "metadata": {},
   "outputs": [
    {
     "name": "stdout",
     "output_type": "stream",
     "text": [
      "The numpy array b is:  [ 3 -1  3  7  2]\n",
      "All elements in the array are non zero\n"
     ]
    }
   ],
   "source": [
    "# Create a numpy array with the elements \"3, -1, 3, 7, 2\", print the array and test if any of its elements is non-zero.\n",
    "b = np.array([3,-1,3,7,2])\n",
    "print(\"The numpy array b is: \", b)\n",
    "zero_check(b)"
   ]
  },
  {
   "cell_type": "code",
   "execution_count": 5,
   "metadata": {},
   "outputs": [
    {
     "name": "stdout",
     "output_type": "stream",
     "text": [
      "The numpy array c is:  [0 0 0 0]\n",
      "The array has elements that are zero\n"
     ]
    }
   ],
   "source": [
    "# Create a numpy array with the elements \"0, 0, 0, 0\", print the array and test if any of its elements is non-zero.\n",
    "c = np.array([0,0,0,0])\n",
    "print(\"The numpy array c is: \", c)\n",
    "zero_check(c)"
   ]
  },
  {
   "cell_type": "code",
   "execution_count": 6,
   "metadata": {},
   "outputs": [
    {
     "name": "stdout",
     "output_type": "stream",
     "text": [
      "The numpy array d is:  [56 -2  7] , its memory size is:  12 bits\n"
     ]
    }
   ],
   "source": [
    "# Create a numpy array with the elements \"56, -2, 7\", print the array and the amount of memory required to store it.\n",
    "d = np.array([56, -2, 7])\n",
    "print(\"The numpy array d is: \", d, \", its memory size is: \", d.itemsize*d.size, \"bits\")"
   ]
  },
  {
   "cell_type": "code",
   "execution_count": 7,
   "metadata": {},
   "outputs": [
    {
     "name": "stdout",
     "output_type": "stream",
     "text": [
      "[0. 0. 0. 0. 0. 0. 0. 0. 0. 0.]\n",
      "[1. 1. 1. 1. 1. 1.]\n",
      "[3. 3. 3. 3. 3. 3. 3. 3. 3. 3. 3. 3.]\n"
     ]
    }
   ],
   "source": [
    "# Create a numpy array with 10 zeros and print the array.\n",
    "z = np.zeros(10)\n",
    "# Create a numpy array with 6 ones and print the array.\n",
    "o = np.ones(6)\n",
    "# Create a numpy array with 12 '3's and print the array. [3 3 3 3 3 3 3 3 3 3 3 3]\n",
    "t = np.ones(12)*3\n",
    "print(z)\n",
    "print(o)\n",
    "print(t)"
   ]
  },
  {
   "cell_type": "code",
   "execution_count": 8,
   "metadata": {},
   "outputs": [
    {
     "name": "stdout",
     "output_type": "stream",
     "text": [
      "Array of Integers between 8 and 20:  [ 8  9 10 11 12 13 14 15 16 17 18 19 20]\n",
      "Array of Even Integers between 8 and 20:  [ 8 10 12 14 16 18 20]\n"
     ]
    }
   ],
   "source": [
    "# Create a numpy array of the integers from 8 to 20 and print the array. (make sure 20 itself is included) hint:  use \"arange\" method\n",
    "arr_1 = np.arange(8, 21)\n",
    "print('Array of Integers between 8 and 20: ', arr_1)\n",
    "# Create a numpy array of the even integers from 8 to 20 and print the array. (make sure 20 itself is included)   hint:  use \"arange\" method\n",
    "arr_2 = np.arange(8, 21, 2)\n",
    "print('Array of Even Integers between 8 and 20: ', arr_2)"
   ]
  },
  {
   "cell_type": "code",
   "execution_count": 9,
   "metadata": {},
   "outputs": [
    {
     "name": "stdout",
     "output_type": "stream",
     "text": [
      "Random Array 1 (100 elements) has mean: 2.0617301791327485 , max: 3.0866891953128084 , min: 0.7120181035214548 , std: 0.4257986733365209 .\n",
      "Random Array 2 (1000 elements) has mean: 1.9866069212125326 , max: 3.488252409235086 , min: 0.306335454200636 , std: 0.48457186129305657 .\n",
      "Random Array 3 (1000000 elements) has mean: 2.0003341136139094 , max: 4.871278815503993 , min: -0.358464927859548 , std: 0.4995807916746338 .\n",
      "Looking at the three examples we observe that the accuracy of the mean and std are slightly greater by being a few decimals closer to 0.5 and 2.\n",
      "The greater the amount of elements, the more accurate mean and std become.\n"
     ]
    }
   ],
   "source": [
    "# Create a numpy array consisting of 100 random elements from normal distribution with mean of 2 and std of 0.5. Print the mean, max, min and std of the array.\n",
    "ra1 = np.random.normal(2, 0.5, 100)\n",
    "print(\"Random Array 1 (100 elements) has mean:\", ra1.mean(), \", max:\", ra1.max(),\", min:\", ra1.min(),\", std:\", ra1.std(),\".\")\n",
    "# Create a numpy array consisting of 1000 random elements from normal distribution with mean of 2 and std of 0.5. Print the mean, max, min and std of the array.\n",
    "ra2 = np.random.normal(2, 0.5, 1000)\n",
    "print(\"Random Array 2 (1000 elements) has mean:\", ra2.mean(), \", max:\", ra2.max(),\", min:\", ra2.min(),\", std:\", ra2.std(),\".\")\n",
    "# Create a numpy array consisting of 1000000 random elements from normal distribution with mean of 2 and std of 0.5. Print the mean, max, min and std of the array.\n",
    "ra3 = np.random.normal(2, 0.5, 1000000)\n",
    "print(\"Random Array 3 (1000000 elements) has mean:\", ra3.mean(), \", max:\", ra3.max(),\", min:\", ra3.min(),\", std:\", ra3.std(),\".\")\n",
    "# (Bonus question) Looking at the three above examples with 1000, 5000, and 10000 random elements, do you have any observations about mean and std values?\n",
    "print(\"Looking at the three examples we observe that the accuracy of the mean and std are slightly greater by being a few decimals closer to 0.5 and 2.\")\n",
    "print(\"The greater the amount of elements, the more accurate mean and std become.\") "
   ]
  }
 ],
 "metadata": {
  "kernelspec": {
   "display_name": "Python 3 (ipykernel)",
   "language": "python",
   "name": "python3"
  },
  "language_info": {
   "codemirror_mode": {
    "name": "ipython",
    "version": 3
   },
   "file_extension": ".py",
   "mimetype": "text/x-python",
   "name": "python",
   "nbconvert_exporter": "python",
   "pygments_lexer": "ipython3",
   "version": "3.11.5"
  }
 },
 "nbformat": 4,
 "nbformat_minor": 1
}
